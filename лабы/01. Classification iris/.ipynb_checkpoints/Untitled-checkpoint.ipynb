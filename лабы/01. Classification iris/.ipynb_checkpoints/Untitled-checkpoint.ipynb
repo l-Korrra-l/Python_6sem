{
 "cells": [
  {
   "cell_type": "code",
   "execution_count": null,
   "id": "2b098da8-79ed-44a1-86b0-a116a3c71c17",
   "metadata": {},
   "outputs": [],
   "source": [
    "import sys\n",
    "import pandas as pds\n",
    "import matplotlib\n",
    "import IPython\n",
    "import sklearn\n",
    "import datasets\n",
    "import mglearn\n",
    "import matplotlib.pyplot as plt\n",
    "import numpy as np\n",
    "import scipy as sp\n",
    "\n",
    "# print(\"версияPython: {}\".format(sys.version))\n",
    "# print(\"версияpandas: {}\".format(pds.__version__))\n",
    "# print(\"версияmatplotlib: {}\".format(matplotlib.__version__))\n",
    "# print(\"версияNumPy: {}\".format(numpy.__version__))\n",
    "# print(\"версияSciPy: {}\".format(scipy.__version__))\n",
    "# print(\"версияIPython: {}\".format(IPython.__version__))\n",
    "# print(\"версияscikit-learn: {}\".format(sklearn.__version__))\n",
    "\n",
    "\n",
    "from sklearn.datasets import load_iris\n",
    "iris_dataset = load_iris()\n",
    "\n",
    "print(\"Ключи iris_dataset: \\n{}\".format(iris_dataset.keys()))\n",
    "print(iris_dataset['DESCR'][:193] + \"\\n...\")\n",
    "print(\"Название ответов: {}\".format(iris_dataset['target_names']))\n",
    "print(\"Названия признаков:\\n{}\".format(iris_dataset['feature_names']))\n",
    "print(\"Тип массива data: {}\".format(type(iris_dataset['data'])))\n",
    "print(\"Форма массива data: {}\".format(iris_dataset['data'].shape))\n",
    "print(\"Первые пять строк массива data:\\n{}\".format(iris_dataset['data'][:5]))\n",
    "print(\"Тип массива target: {}\".format(type(iris_dataset['target'])))\n",
    "print(\"Форма массива target: {}\".format(iris_dataset['target'].shape))\n",
    "print(\"Ответы:\\n{}\".format(iris_dataset['target']))\n",
    "\n",
    "from sklearn.model_selection import train_test_split\n",
    "X_train, X_test, y_train, y_test = train_test_split(iris_dataset['data'], iris_dataset['target'], random_state=0)\n",
    "print(\"форма массива X_train: {}\".format(X_train.shape))\n",
    "print(\"форма массива y_train: {}\".format(y_train.shape))\n",
    "print(\"форма массива X_test: {}\".format(X_test.shape))\n",
    "print(\"форма массива y_test: {}\".format(y_test.shape))\n",
    "\n",
    "iris_dataframe = pds.DataFrame(X_train, columns=iris_dataset.feature_names)\n",
    "\n",
    "from pandas.plotting import scatter_matrix\n",
    "grr = scatter_matrix(iris_dataframe, c=y_train, figsize=(15,15), marker='o', hist_kwds={'bins':20}, s=60, alpha=.8, cmap=mglearn.cm3)\n",
    "plt.show()"
   ]
  }
 ],
 "metadata": {
  "kernelspec": {
   "display_name": "Python 3 (ipykernel)",
   "language": "python",
   "name": "python3"
  },
  "language_info": {
   "codemirror_mode": {
    "name": "ipython",
    "version": 3
   },
   "file_extension": ".py",
   "mimetype": "text/x-python",
   "name": "python",
   "nbconvert_exporter": "python",
   "pygments_lexer": "ipython3",
   "version": "3.9.7"
  }
 },
 "nbformat": 4,
 "nbformat_minor": 5
}
